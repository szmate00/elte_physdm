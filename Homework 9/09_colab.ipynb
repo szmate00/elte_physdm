{
 "cells": [
  {
   "cell_type": "code",
   "execution_count": 1,
   "metadata": {
    "executionInfo": {
     "elapsed": 2417,
     "status": "ok",
     "timestamp": 1605450368816,
     "user": {
      "displayName": "Máté Szűcs",
      "photoUrl": "https://lh3.googleusercontent.com/-r_vxyzaWcnY/AAAAAAAAAAI/AAAAAAAABTs/RdmckNXb-WA/s64/photo.jpg",
      "userId": "06539120033518155674"
     },
     "user_tz": -60
    },
    "id": "e_YBFF3A-cir"
   },
   "outputs": [],
   "source": [
    "%tensorflow_version 2.x\n",
    "import numpy as np\n",
    "import matplotlib.pyplot as plt\n",
    "import seaborn as sns\n",
    "from tensorflow import keras\n",
    "from sklearn.metrics import accuracy_score, confusion_matrix\n",
    "sns.set()"
   ]
  },
  {
   "cell_type": "markdown",
   "metadata": {
    "id": "YTuyC3pmFiyo"
   },
   "source": [
    "# Task 1-2"
   ]
  },
  {
   "cell_type": "code",
   "execution_count": 2,
   "metadata": {
    "executionInfo": {
     "elapsed": 2417,
     "status": "ok",
     "timestamp": 1605450368825,
     "user": {
      "displayName": "Máté Szűcs",
      "photoUrl": "https://lh3.googleusercontent.com/-r_vxyzaWcnY/AAAAAAAAAAI/AAAAAAAABTs/RdmckNXb-WA/s64/photo.jpg",
      "userId": "06539120033518155674"
     },
     "user_tz": -60
    },
    "id": "oc5beP1bFkJ5"
   },
   "outputs": [],
   "source": [
    "# creating our neural network only using numpy\n",
    "def pred_nn(weights, x_test):\n",
    "  a1 = np.maximum(0, ((weights[0].T).dot(x_test.T)) + weights[1].reshape(-1,1))\n",
    "  a2 = np.maximum(0, ((weights[2].T).dot(a1)) + weights[3].reshape(-1,1))\n",
    "  a3 = np.maximum(0, ((weights[4].T).dot(a2)) + weights[5].reshape(-1,1))\n",
    "  predictions = np.exp(((weights[6].T).dot(a3)) + weights[7].reshape(-1,1)) / np.sum(np.exp(((weights[6].T).dot(a3)) + weights[7].reshape(-1,1)), axis=0)\n",
    "  \n",
    "  return predictions.T"
   ]
  },
  {
   "cell_type": "markdown",
   "metadata": {
    "id": "krv2zLT9Cc77"
   },
   "source": [
    "# Task 3"
   ]
  },
  {
   "cell_type": "code",
   "execution_count": 3,
   "metadata": {
    "executionInfo": {
     "elapsed": 2837,
     "status": "ok",
     "timestamp": 1605450369250,
     "user": {
      "displayName": "Máté Szűcs",
      "photoUrl": "https://lh3.googleusercontent.com/-r_vxyzaWcnY/AAAAAAAAAAI/AAAAAAAABTs/RdmckNXb-WA/s64/photo.jpg",
      "userId": "06539120033518155674"
     },
     "user_tz": -60
    },
    "id": "-bOwSP11COCt"
   },
   "outputs": [],
   "source": [
    "# creating the same neural network in tensorflow\n",
    "model = keras.Sequential()\n",
    "model.add(keras.layers.Dense(750, activation='relu', input_dim=784))\n",
    "model.add(keras.layers.Dense(500, activation='relu'))\n",
    "model.add(keras.layers.Dense(500, activation='relu'))\n",
    "model.add(keras.layers.Dense(10, activation='softmax'))"
   ]
  },
  {
   "cell_type": "code",
   "execution_count": 4,
   "metadata": {
    "executionInfo": {
     "elapsed": 2834,
     "status": "ok",
     "timestamp": 1605450369253,
     "user": {
      "displayName": "Máté Szűcs",
      "photoUrl": "https://lh3.googleusercontent.com/-r_vxyzaWcnY/AAAAAAAAAAI/AAAAAAAABTs/RdmckNXb-WA/s64/photo.jpg",
      "userId": "06539120033518155674"
     },
     "user_tz": -60
    },
    "id": "zurp8Se9DQiN"
   },
   "outputs": [],
   "source": [
    "weights = np.load('weights.npy', allow_pickle=True)"
   ]
  },
  {
   "cell_type": "markdown",
   "metadata": {
    "id": "ABvyfF6VEWdF"
   },
   "source": [
    "# Task 4-5"
   ]
  },
  {
   "cell_type": "code",
   "execution_count": 5,
   "metadata": {
    "executionInfo": {
     "elapsed": 3139,
     "status": "ok",
     "timestamp": 1605450369565,
     "user": {
      "displayName": "Máté Szűcs",
      "photoUrl": "https://lh3.googleusercontent.com/-r_vxyzaWcnY/AAAAAAAAAAI/AAAAAAAABTs/RdmckNXb-WA/s64/photo.jpg",
      "userId": "06539120033518155674"
     },
     "user_tz": -60
    },
    "id": "eViQ0q3aEXjI"
   },
   "outputs": [],
   "source": [
    "(x_train, y_train), (x_test, y_test) = keras.datasets.mnist.load_data()"
   ]
  },
  {
   "cell_type": "code",
   "execution_count": 6,
   "metadata": {
    "colab": {
     "base_uri": "https://localhost:8080/"
    },
    "executionInfo": {
     "elapsed": 3526,
     "status": "ok",
     "timestamp": 1605450369960,
     "user": {
      "displayName": "Máté Szűcs",
      "photoUrl": "https://lh3.googleusercontent.com/-r_vxyzaWcnY/AAAAAAAAAAI/AAAAAAAABTs/RdmckNXb-WA/s64/photo.jpg",
      "userId": "06539120033518155674"
     },
     "user_tz": -60
    },
    "id": "JxCcD34TEaDi",
    "outputId": "a4b403e0-e8ab-4793-f41e-fd3d18c0e5ba"
   },
   "outputs": [
    {
     "data": {
      "text/plain": [
       "((60000, 784), (10000, 784), 0.0, 1.0)"
      ]
     },
     "execution_count": 6,
     "metadata": {
      "tags": []
     },
     "output_type": "execute_result"
    }
   ],
   "source": [
    "# reshaping the images\n",
    "x_train = x_train.reshape(60000, 28*28)/255\n",
    "x_test = x_test.reshape(10000, 28*28)/255\n",
    "\n",
    "x_train.shape, x_test.shape, x_train.min(), x_train.max()"
   ]
  },
  {
   "cell_type": "code",
   "execution_count": 7,
   "metadata": {
    "executionInfo": {
     "elapsed": 3520,
     "status": "ok",
     "timestamp": 1605450369962,
     "user": {
      "displayName": "Máté Szűcs",
      "photoUrl": "https://lh3.googleusercontent.com/-r_vxyzaWcnY/AAAAAAAAAAI/AAAAAAAABTs/RdmckNXb-WA/s64/photo.jpg",
      "userId": "06539120033518155674"
     },
     "user_tz": -60
    },
    "id": "P4UG-7bxY2mh"
   },
   "outputs": [],
   "source": [
    "# one-hot encoding the labels\n",
    "y_train_oh = keras.utils.to_categorical(y_train)\n",
    "y_test_oh = keras.utils.to_categorical(y_test)"
   ]
  },
  {
   "cell_type": "code",
   "execution_count": 8,
   "metadata": {
    "executionInfo": {
     "elapsed": 3517,
     "status": "ok",
     "timestamp": 1605450369964,
     "user": {
      "displayName": "Máté Szűcs",
      "photoUrl": "https://lh3.googleusercontent.com/-r_vxyzaWcnY/AAAAAAAAAAI/AAAAAAAABTs/RdmckNXb-WA/s64/photo.jpg",
      "userId": "06539120033518155674"
     },
     "user_tz": -60
    },
    "id": "14EEI-_hNAL5"
   },
   "outputs": [],
   "source": [
    "model.compile(loss='categorical_crossentropy', optimizer='adam', metrics=['accuracy'])"
   ]
  },
  {
   "cell_type": "code",
   "execution_count": 9,
   "metadata": {
    "colab": {
     "base_uri": "https://localhost:8080/"
    },
    "executionInfo": {
     "elapsed": 40762,
     "status": "ok",
     "timestamp": 1605450407216,
     "user": {
      "displayName": "Máté Szűcs",
      "photoUrl": "https://lh3.googleusercontent.com/-r_vxyzaWcnY/AAAAAAAAAAI/AAAAAAAABTs/RdmckNXb-WA/s64/photo.jpg",
      "userId": "06539120033518155674"
     },
     "user_tz": -60
    },
    "id": "yq4C0ruqYUTG",
    "outputId": "18abf569-a255-462b-b7c0-c249843f88e8"
   },
   "outputs": [
    {
     "name": "stdout",
     "output_type": "stream",
     "text": [
      "Epoch 1/15\n",
      "938/938 [==============================] - 3s 3ms/step - loss: 0.1960 - accuracy: 0.9404 - val_loss: 0.0963 - val_accuracy: 0.9690\n",
      "Epoch 2/15\n",
      "938/938 [==============================] - 2s 2ms/step - loss: 0.0819 - accuracy: 0.9751 - val_loss: 0.0835 - val_accuracy: 0.9749\n",
      "Epoch 3/15\n",
      "938/938 [==============================] - 2s 3ms/step - loss: 0.0579 - accuracy: 0.9817 - val_loss: 0.0827 - val_accuracy: 0.9761\n",
      "Epoch 4/15\n",
      "938/938 [==============================] - 2s 3ms/step - loss: 0.0466 - accuracy: 0.9856 - val_loss: 0.0864 - val_accuracy: 0.9766\n",
      "Epoch 5/15\n",
      "938/938 [==============================] - 2s 3ms/step - loss: 0.0382 - accuracy: 0.9877 - val_loss: 0.0747 - val_accuracy: 0.9788\n",
      "Epoch 6/15\n",
      "938/938 [==============================] - 3s 3ms/step - loss: 0.0283 - accuracy: 0.9913 - val_loss: 0.0960 - val_accuracy: 0.9768\n",
      "Epoch 7/15\n",
      "938/938 [==============================] - 2s 3ms/step - loss: 0.0281 - accuracy: 0.9916 - val_loss: 0.0923 - val_accuracy: 0.9759\n",
      "Epoch 8/15\n",
      "938/938 [==============================] - 2s 3ms/step - loss: 0.0238 - accuracy: 0.9923 - val_loss: 0.0999 - val_accuracy: 0.9769\n",
      "Epoch 9/15\n",
      "938/938 [==============================] - 2s 3ms/step - loss: 0.0223 - accuracy: 0.9929 - val_loss: 0.0873 - val_accuracy: 0.9800\n",
      "Epoch 10/15\n",
      "938/938 [==============================] - 2s 3ms/step - loss: 0.0187 - accuracy: 0.9942 - val_loss: 0.1022 - val_accuracy: 0.9799\n",
      "Epoch 11/15\n",
      "938/938 [==============================] - 2s 2ms/step - loss: 0.0186 - accuracy: 0.9945 - val_loss: 0.1129 - val_accuracy: 0.9775\n",
      "Epoch 12/15\n",
      "938/938 [==============================] - 2s 3ms/step - loss: 0.0163 - accuracy: 0.9948 - val_loss: 0.0906 - val_accuracy: 0.9806\n",
      "Epoch 13/15\n",
      "938/938 [==============================] - 2s 3ms/step - loss: 0.0155 - accuracy: 0.9952 - val_loss: 0.0989 - val_accuracy: 0.9819\n",
      "Epoch 14/15\n",
      "938/938 [==============================] - 2s 3ms/step - loss: 0.0153 - accuracy: 0.9959 - val_loss: 0.0789 - val_accuracy: 0.9836\n",
      "Epoch 15/15\n",
      "938/938 [==============================] - 3s 3ms/step - loss: 0.0124 - accuracy: 0.9964 - val_loss: 0.0856 - val_accuracy: 0.9825\n"
     ]
    }
   ],
   "source": [
    "# training the tensorflow model\n",
    "history = model.fit(x=x_train, y=y_train_oh, batch_size=64, epochs=15, validation_data=(x_test, y_test_oh))"
   ]
  },
  {
   "cell_type": "code",
   "execution_count": 10,
   "metadata": {
    "executionInfo": {
     "elapsed": 41050,
     "status": "ok",
     "timestamp": 1605450407512,
     "user": {
      "displayName": "Máté Szűcs",
      "photoUrl": "https://lh3.googleusercontent.com/-r_vxyzaWcnY/AAAAAAAAAAI/AAAAAAAABTs/RdmckNXb-WA/s64/photo.jpg",
      "userId": "06539120033518155674"
     },
     "user_tz": -60
    },
    "id": "YdyP3eMvaCBM"
   },
   "outputs": [],
   "source": [
    "# predicting the x_test values with the tensorflow model\n",
    "preds1 = model.predict(x_test)"
   ]
  },
  {
   "cell_type": "code",
   "execution_count": 11,
   "metadata": {
    "executionInfo": {
     "elapsed": 42008,
     "status": "ok",
     "timestamp": 1605450408476,
     "user": {
      "displayName": "Máté Szűcs",
      "photoUrl": "https://lh3.googleusercontent.com/-r_vxyzaWcnY/AAAAAAAAAAI/AAAAAAAABTs/RdmckNXb-WA/s64/photo.jpg",
      "userId": "06539120033518155674"
     },
     "user_tz": -60
    },
    "id": "CqlTBpelfI1-"
   },
   "outputs": [],
   "source": [
    "# predicting the x_test values with our model\n",
    "preds2 = pred_nn(weights, x_test)"
   ]
  },
  {
   "cell_type": "code",
   "execution_count": 12,
   "metadata": {
    "colab": {
     "base_uri": "https://localhost:8080/"
    },
    "executionInfo": {
     "elapsed": 42002,
     "status": "ok",
     "timestamp": 1605450408478,
     "user": {
      "displayName": "Máté Szűcs",
      "photoUrl": "https://lh3.googleusercontent.com/-r_vxyzaWcnY/AAAAAAAAAAI/AAAAAAAABTs/RdmckNXb-WA/s64/photo.jpg",
      "userId": "06539120033518155674"
     },
     "user_tz": -60
    },
    "id": "HkqMV2OpYxNb",
    "outputId": "6f1a17c1-ba9c-48f6-e6fb-0fd5ceb24a05"
   },
   "outputs": [
    {
     "name": "stdout",
     "output_type": "stream",
     "text": [
      "categorical cross-entropy loss of tensorflow model: 0.08291199\n",
      "categorical cross-entropy loss of our model: 0.09585708379745483\n"
     ]
    }
   ],
   "source": [
    "# categorical cross-entropy loss of tensorflow model\n",
    "cce = keras.losses.CategoricalCrossentropy()\n",
    "print('categorical cross-entropy loss of tensorflow model:',cce(y_test_oh, preds1).numpy())\n",
    "print('categorical cross-entropy loss of our model:',cce(y_test_oh, preds2).numpy())"
   ]
  },
  {
   "cell_type": "code",
   "execution_count": 13,
   "metadata": {
    "colab": {
     "base_uri": "https://localhost:8080/"
    },
    "executionInfo": {
     "elapsed": 41996,
     "status": "ok",
     "timestamp": 1605450408479,
     "user": {
      "displayName": "Máté Szűcs",
      "photoUrl": "https://lh3.googleusercontent.com/-r_vxyzaWcnY/AAAAAAAAAAI/AAAAAAAABTs/RdmckNXb-WA/s64/photo.jpg",
      "userId": "06539120033518155674"
     },
     "user_tz": -60
    },
    "id": "i1QZkcGlZ-y4",
    "outputId": "0126ef07-ddd8-4928-a2f6-8db613388739"
   },
   "outputs": [
    {
     "name": "stdout",
     "output_type": "stream",
     "text": [
      "accuracy of tensorflow model: 0.9825\n",
      "accuracy of our model: 0.9708\n"
     ]
    }
   ],
   "source": [
    "# accuracy of tensorflow model\n",
    "print('accuracy of tensorflow model:',accuracy_score(y_test, np.argmax(preds1, axis=1)))\n",
    "print('accuracy of our model:',accuracy_score(y_test, np.argmax(preds2, axis=1)))"
   ]
  },
  {
   "cell_type": "code",
   "execution_count": 14,
   "metadata": {
    "colab": {
     "base_uri": "https://localhost:8080/",
     "height": 578
    },
    "executionInfo": {
     "elapsed": 43738,
     "status": "ok",
     "timestamp": 1605450410230,
     "user": {
      "displayName": "Máté Szűcs",
      "photoUrl": "https://lh3.googleusercontent.com/-r_vxyzaWcnY/AAAAAAAAAAI/AAAAAAAABTs/RdmckNXb-WA/s64/photo.jpg",
      "userId": "06539120033518155674"
     },
     "user_tz": -60
    },
    "id": "fIDrujZGbcmt",
    "outputId": "5affc47a-a10d-4444-9732-d195bc105fda"
   },
   "outputs": [
    {
     "data": {
      "image/png": "[encoded data removed]",
      "text/plain": [
       "<Figure size 1152x576 with 4 Axes>"
      ]
     },
     "metadata": {
      "needs_background": "light",
      "tags": []
     },
     "output_type": "display_data"
    }
   ],
   "source": [
    "cm1 = confusion_matrix(y_test, np.argmax(preds1, axis=1), labels=[0, 1, 2, 3, 4, 5, 6, 7, 8, 9])\n",
    "cm2 = confusion_matrix(y_test, np.argmax(preds2, axis=1), labels=[0, 1, 2, 3, 4, 5, 6, 7, 8, 9])\n",
    "\n",
    "plt.figure(figsize=(16,8))\n",
    "\n",
    "plt.subplot(1,2,1)\n",
    "sns.heatmap(cm1, annot=True, cmap='Blues', fmt='g')\n",
    "plt.title('Confusion matrix of the tensorflow model', size=15)\n",
    "plt.subplot(1,2,2)\n",
    "sns.heatmap(cm2, annot=True, cmap='Blues', fmt='g')\n",
    "plt.title('Confusion matrix of our model', size=15)\n",
    "\n",
    "plt.tight_layout()"
   ]
  },
  {
   "cell_type": "markdown",
   "metadata": {
    "id": "Vyc5jM9CTNIS"
   },
   "source": [
    "In the confusion matrix we can see that the tensorflow model confuses the number 9 and 4 the most. While out model makes a little bit more mistakes. It confuses the number 9 and 4, 9 and 7, 8 and 3 the most. These numbers are similar in shape and can be confused depending on the style of the handwriting."
   ]
  }
 ],
 "metadata": {
  "accelerator": "GPU",
  "colab": {
   "authorship_tag": "ABX9TyPf59r5K5DonARv1/h9v0ae",
   "collapsed_sections": [],
   "name": "09_colab.ipynb",
   "provenance": [],
   "toc_visible": true
  },
  "kernelspec": {
   "display_name": "Python 3",
   "language": "python",
   "name": "python3"
  },
  "language_info": {
   "codemirror_mode": {
    "name": "ipython",
    "version": 3
   },
   "file_extension": ".py",
   "mimetype": "text/x-python",
   "name": "python",
   "nbconvert_exporter": "python",
   "pygments_lexer": "ipython3",
   "version": "3.6.8"
  }
 },
 "nbformat": 4,
 "nbformat_minor": 1
}
